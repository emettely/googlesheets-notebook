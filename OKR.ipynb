{
 "cells": [
  {
   "cell_type": "markdown",
   "metadata": {},
   "source": [
    "# OKR Notebook"
   ]
  },
  {
   "cell_type": "code",
   "execution_count": 1,
   "metadata": {},
   "outputs": [],
   "source": [
    "# Import libraries \n",
    "import pandas as pd\n",
    "import hashlib\n",
    "import warnings\n",
    "warnings.filterwarnings(\"ignore\")\n",
    "import plotly.express as px\n",
    "import plotly.graph_objects as go\n",
    "import random\n",
    "\n",
    "# export images\n",
    "import plotly.io as pio\n",
    "import os\n",
    "import shutil\n",
    "pio.renderers.default = \"svg\"\n",
    "pio.orca.config.executable = \"/Users/okunoe01/miniconda3/bin/orca\"\n",
    "\n",
    "import json\n",
    "\n",
    "# For connecting to google sheet\n",
    "import gspread\n",
    "from oauth2client.service_account import ServiceAccountCredentials\n",
    "from df2gspread import df2gspread as d2g\n",
    "from df2gspread import gspread2df as g2d\n",
    "\n",
    "import subprocess"
   ]
  },
  {
   "cell_type": "code",
   "execution_count": 2,
   "metadata": {},
   "outputs": [],
   "source": [
    "IMG_DIR = \"images\"\n",
    "\n",
    "try:\n",
    "    shutil.rmtree(IMG_DIR)\n",
    "except Exception as e:\n",
    "    pass\n",
    "\n",
    "os.mkdir(IMG_DIR)"
   ]
  },
  {
   "cell_type": "code",
   "execution_count": 3,
   "metadata": {},
   "outputs": [],
   "source": [
    "# Authenticate Google Sheets\n",
    "scope = ['https://spreadsheets.google.com/feeds']\n",
    "\n",
    "credentials = ServiceAccountCredentials.from_json_keyfile_name(\n",
    "    'key/service_account_GS.json',\n",
    "    scope\n",
    ")\n",
    "\n",
    "gc = gspread.authorize(credentials)"
   ]
  },
  {
   "cell_type": "code",
   "execution_count": 4,
   "metadata": {},
   "outputs": [],
   "source": [
    "spreadsheet_key = '1_9r4cU3sL08hiOn-QJ2U-gd_fGyYzcv5B2l5t94FTnM'\n",
    "wks_name = \"Form responses 1\"\n",
    "\n",
    "df = g2d.download(\n",
    "    credentials=credentials, \n",
    "    wks_name=wks_name, \n",
    "    gfile=spreadsheet_key,\n",
    "    col_names=True\n",
    ")"
   ]
  },
  {
   "cell_type": "code",
   "execution_count": 5,
   "metadata": {},
   "outputs": [],
   "source": [
    "# Aliasing everyone's emails\n",
    "\n",
    "df['emailHash'] = df['What is your email?'].apply(hash)\n",
    "\n",
    "email_hashes = dict(zip(df['What is your email?'], df.emailHash))\n",
    "hashes_email = dict(zip(df.emailHash, df['What is your email?']))\n",
    "hashes = list(hashes_email.keys())"
   ]
  },
  {
   "cell_type": "code",
   "execution_count": 6,
   "metadata": {},
   "outputs": [],
   "source": [
    "alias_df = df.drop(columns=['What is your email?'])"
   ]
  },
  {
   "cell_type": "code",
   "execution_count": 7,
   "metadata": {},
   "outputs": [],
   "source": [
    "def get_plots(df, user):\n",
    "    cleaned_df = df.loc[df.emailHash == user].drop(columns=['Comment', \"emailHash\"])\n",
    "    column_names = cleaned_df.columns.values.tolist()\n",
    "    rows = cleaned_df.transpose().to_numpy().tolist()\n",
    "    return dict(zip(column_names, rows))"
   ]
  },
  {
   "cell_type": "code",
   "execution_count": 36,
   "metadata": {},
   "outputs": [],
   "source": [
    "colors = [\n",
    " 'aqua',\n",
    " 'aquamarine',\n",
    " 'black',\n",
    " 'blue',\n",
    " 'blueviolet',\n",
    " 'brown',\n",
    " 'burlywood',\n",
    " 'cadetblue',\n",
    " 'chartreuse',\n",
    " 'chocolate',\n",
    " 'coral',\n",
    " 'cornflowerblue',\n",
    " 'crimson',\n",
    " 'cyan',\n",
    " 'darkblue',\n",
    " 'darkcyan',\n",
    " 'darkgoldenrod',\n",
    " 'darkgray',\n",
    " 'darkgrey',\n",
    " 'darkgreen',\n",
    " 'darkkhaki',\n",
    " 'darkmagenta',\n",
    " 'darkolivegreen',\n",
    " 'darkorange',\n",
    " 'darkorchid',\n",
    " 'darkred',\n",
    " 'darksalmon',\n",
    " 'darkseagreen',\n",
    " 'darkslateblue',\n",
    " 'darkslategray',\n",
    " 'darkslategrey',\n",
    " 'darkturquoise',\n",
    " 'darkviolet',\n",
    " 'deeppink',\n",
    " 'deepskyblue',\n",
    " 'dimgray',\n",
    " 'dimgrey',\n",
    " 'dodgerblue',\n",
    " 'firebrick',\n",
    " 'forestgreen',\n",
    " 'fuchsia',\n",
    " 'gold',\n",
    " 'goldenrod',\n",
    " 'gray',\n",
    " 'grey',\n",
    " 'green',\n",
    " 'greenyellow',\n",
    " 'hotpink',\n",
    " 'indianred',\n",
    " 'indigo',\n",
    " 'khaki',\n",
    " 'lawngreen',\n",
    " 'lime',\n",
    " 'limegreen',\n",
    " 'magenta',\n",
    " 'maroon',\n",
    " 'mediumaquamarine',\n",
    " 'mediumblue',\n",
    " 'mediumorchid',\n",
    " 'mediumpurple',\n",
    " 'mediumseagreen',\n",
    " 'mediumslateblue',\n",
    " 'mediumspringgreen',\n",
    " 'mediumturquoise',\n",
    " 'mediumvioletred',\n",
    " 'midnightblue',\n",
    " 'navy',\n",
    " 'olive',\n",
    " 'olivedrab',\n",
    " 'orange',\n",
    " 'orangered',\n",
    " 'orchid',\n",
    " 'peru',\n",
    " 'pink',\n",
    " 'plum',\n",
    " 'purple',\n",
    " 'red',\n",
    " 'rosybrown',\n",
    " 'royalblue',\n",
    " 'saddlebrown',\n",
    " 'salmon',\n",
    " 'sandybrown',\n",
    " 'seagreen',\n",
    " 'sienna',\n",
    " 'silver',\n",
    " 'skyblue',\n",
    " 'slateblue',\n",
    " 'slategray',\n",
    " 'slategrey',\n",
    " 'springgreen',\n",
    " 'steelblue',\n",
    " 'tan',\n",
    " 'teal',\n",
    " 'tomato',\n",
    " 'turquoise',\n",
    " 'violet',\n",
    " 'yellow',\n",
    " 'yellowgreen']\n",
    "\n",
    "line_style = ['solid', 'dot', 'dash', 'longdash', 'dashdot', 'longdashdot']"
   ]
  },
  {
   "cell_type": "code",
   "execution_count": 12,
   "metadata": {},
   "outputs": [],
   "source": [
    "def select_figures(heading, figures):\n",
    "    # Removed o1, o2, m list that contained the heading to filter by.\n",
    "    \n",
    "    if heading == \"Timestamp\":\n",
    "        return None\n",
    "    else:\n",
    "        if heading in o1:\n",
    "            return figures[\"o1\"]\n",
    "        elif heading in o2:\n",
    "            return figures[\"o2\"]\n",
    "        else:\n",
    "            return figures[\"m\"]"
   ]
  },
  {
   "cell_type": "code",
   "execution_count": 35,
   "metadata": {},
   "outputs": [],
   "source": [
    "def plot_scatter(figures, plots):\n",
    "    for k, v in plots.items():\n",
    "        name = k #[:50]\n",
    "        fig = select_figures(k, figures)\n",
    "        if not fig:\n",
    "            continue\n",
    "        line = dict(\n",
    "            color=random.choice(colors),\n",
    "            dash=random.choice(line_style),\n",
    "            width=3\n",
    "        )\n",
    "        fig.add_trace(\n",
    "            go.Scatter(\n",
    "                x=plots['Timestamp'],\n",
    "                y=v,\n",
    "                name=name,\n",
    "                line=line\n",
    "            )\n",
    "        )"
   ]
  },
  {
   "cell_type": "code",
   "execution_count": 9,
   "metadata": {},
   "outputs": [],
   "source": [
    "def edit_layout(figures, h):\n",
    "    for topic, figure in figures.items():\n",
    "        figure.update_layout(\n",
    "            title=h,\n",
    "            legend_orientation=\"h\",\n",
    "            yaxis=dict(\n",
    "                title=\"Score\",\n",
    "                range=[0.5,5.5]\n",
    "            ),\n",
    "            \n",
    "            autosize=True,\n",
    "        )\n",
    "        figure.show()\n",
    "        figure.write_image(f'images/{h}-{topic}.svg')\n"
   ]
  },
  {
   "cell_type": "code",
   "execution_count": 7,
   "metadata": {},
   "outputs": [],
   "source": [
    "def output_okrs(alias_df, h, format_img=\"svg\"):\n",
    "    plots = get_plots(alias_df, h)\n",
    "    figures = {topic: go.Figure() for topic in [\"o1\",\"o2\", \"m\"]}\n",
    "    plot_scatter(figures, plots)\n",
    "    edit_layout(figures, h)"
   ]
  },
  {
   "cell_type": "code",
   "execution_count": 10,
   "metadata": {},
   "outputs": [
    {
     "ename": "NameError",
     "evalue": "name 'alias_df' is not defined",
     "output_type": "error",
     "traceback": [
      "\u001b[0;31m---------------------------------------------------------------------------\u001b[0m",
      "\u001b[0;31mNameError\u001b[0m                                 Traceback (most recent call last)",
      "\u001b[0;32m<ipython-input-10-9cdd1ce5c5e3>\u001b[0m in \u001b[0;36m<module>\u001b[0;34m\u001b[0m\n\u001b[1;32m      1\u001b[0m \u001b[0;32mfor\u001b[0m \u001b[0mh\u001b[0m \u001b[0;32min\u001b[0m \u001b[0mhashes\u001b[0m\u001b[0;34m:\u001b[0m\u001b[0;34m\u001b[0m\u001b[0;34m\u001b[0m\u001b[0m\n\u001b[0;32m----> 2\u001b[0;31m     \u001b[0moutput_okrs\u001b[0m\u001b[0;34m(\u001b[0m\u001b[0malias_df\u001b[0m\u001b[0;34m,\u001b[0m \u001b[0mh\u001b[0m\u001b[0;34m)\u001b[0m\u001b[0;34m\u001b[0m\u001b[0;34m\u001b[0m\u001b[0m\n\u001b[0m",
      "\u001b[0;31mNameError\u001b[0m: name 'alias_df' is not defined"
     ]
    }
   ],
   "source": [
    "for h in hashes:\n",
    "    output_okrs(alias_df, h)"
   ]
  },
  {
   "cell_type": "code",
   "execution_count": 11,
   "metadata": {},
   "outputs": [],
   "source": [
    "with open('email_hash.json', 'w') as outfile:\n",
    "    json.dump(email_hashes, outfile)"
   ]
  },
  {
   "cell_type": "code",
   "execution_count": null,
   "metadata": {},
   "outputs": [],
   "source": []
  },
  {
   "cell_type": "code",
   "execution_count": null,
   "metadata": {},
   "outputs": [],
   "source": []
  }
 ],
 "metadata": {
  "kernelspec": {
   "display_name": "Python 3",
   "language": "python",
   "name": "python3"
  },
  "language_info": {
   "codemirror_mode": {
    "name": "ipython",
    "version": 3
   },
   "file_extension": ".py",
   "mimetype": "text/x-python",
   "name": "python",
   "nbconvert_exporter": "python",
   "pygments_lexer": "ipython3",
   "version": "3.7.5"
  },
  "widgets": {
   "application/vnd.jupyter.widget-state+json": {
    "state": {},
    "version_major": 2,
    "version_minor": 0
   }
  }
 },
 "nbformat": 4,
 "nbformat_minor": 4
}
